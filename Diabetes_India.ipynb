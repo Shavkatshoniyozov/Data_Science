{
  "nbformat": 4,
  "nbformat_minor": 0,
  "metadata": {
    "colab": {
      "provenance": []
    },
    "kernelspec": {
      "name": "python3",
      "display_name": "Python 3"
    },
    "language_info": {
      "name": "python"
    }
  },
  "cells": [
    {
      "cell_type": "code",
      "execution_count": 1,
      "metadata": {
        "id": "XNWL02IrTysi"
      },
      "outputs": [],
      "source": [
        "import pandas as pd\n",
        "import numpy as np\n",
        "import seaborn as sns\n",
        "import matplotlib.pyplot as plt\n",
        "%matplotlib inline"
      ]
    },
    {
      "cell_type": "code",
      "source": [
        "!git clone \"https://github.com/anvarnarz/praktikum_datasets.git\""
      ],
      "metadata": {
        "colab": {
          "base_uri": "https://localhost:8080/"
        },
        "id": "3Arim2WDUVI4",
        "outputId": "de9f42d0-f724-488e-af5c-79444f5b506d"
      },
      "execution_count": 2,
      "outputs": [
        {
          "output_type": "stream",
          "name": "stdout",
          "text": [
            "Cloning into 'praktikum_datasets'...\n",
            "remote: Enumerating objects: 139, done.\u001b[K\n",
            "remote: Counting objects: 100% (46/46), done.\u001b[K\n",
            "remote: Compressing objects: 100% (3/3), done.\u001b[K\n",
            "remote: Total 139 (delta 44), reused 43 (delta 43), pack-reused 93\u001b[K\n",
            "Receiving objects: 100% (139/139), 9.71 MiB | 6.30 MiB/s, done.\n",
            "Resolving deltas: 100% (51/51), done.\n"
          ]
        }
      ]
    },
    {
      "cell_type": "code",
      "source": [
        "url = \"/content/praktikum_datasets/diabetes.csv\"\n",
        "df = pd.read_csv(url)\n",
        "df.head()"
      ],
      "metadata": {
        "colab": {
          "base_uri": "https://localhost:8080/",
          "height": 206
        },
        "id": "tfFr8n7sUAg1",
        "outputId": "5ce31810-5180-46b6-82b8-32b4612c4f75"
      },
      "execution_count": 3,
      "outputs": [
        {
          "output_type": "execute_result",
          "data": {
            "text/plain": [
              "   Pregnancies  Glucose  BloodPressure  SkinThickness  Insulin   BMI  \\\n",
              "0            6      148             72             35        0  33.6   \n",
              "1            1       85             66             29        0  26.6   \n",
              "2            8      183             64              0        0  23.3   \n",
              "3            1       89             66             23       94  28.1   \n",
              "4            0      137             40             35      168  43.1   \n",
              "\n",
              "   DiabetesPedigreeFunction  Age  Outcome  \n",
              "0                     0.627   50        1  \n",
              "1                     0.351   31        0  \n",
              "2                     0.672   32        1  \n",
              "3                     0.167   21        0  \n",
              "4                     2.288   33        1  "
            ],
            "text/html": [
              "\n",
              "  <div id=\"df-17b2490e-7c06-4e77-9f86-e2aa5f89a867\">\n",
              "    <div class=\"colab-df-container\">\n",
              "      <div>\n",
              "<style scoped>\n",
              "    .dataframe tbody tr th:only-of-type {\n",
              "        vertical-align: middle;\n",
              "    }\n",
              "\n",
              "    .dataframe tbody tr th {\n",
              "        vertical-align: top;\n",
              "    }\n",
              "\n",
              "    .dataframe thead th {\n",
              "        text-align: right;\n",
              "    }\n",
              "</style>\n",
              "<table border=\"1\" class=\"dataframe\">\n",
              "  <thead>\n",
              "    <tr style=\"text-align: right;\">\n",
              "      <th></th>\n",
              "      <th>Pregnancies</th>\n",
              "      <th>Glucose</th>\n",
              "      <th>BloodPressure</th>\n",
              "      <th>SkinThickness</th>\n",
              "      <th>Insulin</th>\n",
              "      <th>BMI</th>\n",
              "      <th>DiabetesPedigreeFunction</th>\n",
              "      <th>Age</th>\n",
              "      <th>Outcome</th>\n",
              "    </tr>\n",
              "  </thead>\n",
              "  <tbody>\n",
              "    <tr>\n",
              "      <th>0</th>\n",
              "      <td>6</td>\n",
              "      <td>148</td>\n",
              "      <td>72</td>\n",
              "      <td>35</td>\n",
              "      <td>0</td>\n",
              "      <td>33.6</td>\n",
              "      <td>0.627</td>\n",
              "      <td>50</td>\n",
              "      <td>1</td>\n",
              "    </tr>\n",
              "    <tr>\n",
              "      <th>1</th>\n",
              "      <td>1</td>\n",
              "      <td>85</td>\n",
              "      <td>66</td>\n",
              "      <td>29</td>\n",
              "      <td>0</td>\n",
              "      <td>26.6</td>\n",
              "      <td>0.351</td>\n",
              "      <td>31</td>\n",
              "      <td>0</td>\n",
              "    </tr>\n",
              "    <tr>\n",
              "      <th>2</th>\n",
              "      <td>8</td>\n",
              "      <td>183</td>\n",
              "      <td>64</td>\n",
              "      <td>0</td>\n",
              "      <td>0</td>\n",
              "      <td>23.3</td>\n",
              "      <td>0.672</td>\n",
              "      <td>32</td>\n",
              "      <td>1</td>\n",
              "    </tr>\n",
              "    <tr>\n",
              "      <th>3</th>\n",
              "      <td>1</td>\n",
              "      <td>89</td>\n",
              "      <td>66</td>\n",
              "      <td>23</td>\n",
              "      <td>94</td>\n",
              "      <td>28.1</td>\n",
              "      <td>0.167</td>\n",
              "      <td>21</td>\n",
              "      <td>0</td>\n",
              "    </tr>\n",
              "    <tr>\n",
              "      <th>4</th>\n",
              "      <td>0</td>\n",
              "      <td>137</td>\n",
              "      <td>40</td>\n",
              "      <td>35</td>\n",
              "      <td>168</td>\n",
              "      <td>43.1</td>\n",
              "      <td>2.288</td>\n",
              "      <td>33</td>\n",
              "      <td>1</td>\n",
              "    </tr>\n",
              "  </tbody>\n",
              "</table>\n",
              "</div>\n",
              "      <button class=\"colab-df-convert\" onclick=\"convertToInteractive('df-17b2490e-7c06-4e77-9f86-e2aa5f89a867')\"\n",
              "              title=\"Convert this dataframe to an interactive table.\"\n",
              "              style=\"display:none;\">\n",
              "        \n",
              "  <svg xmlns=\"http://www.w3.org/2000/svg\" height=\"24px\"viewBox=\"0 0 24 24\"\n",
              "       width=\"24px\">\n",
              "    <path d=\"M0 0h24v24H0V0z\" fill=\"none\"/>\n",
              "    <path d=\"M18.56 5.44l.94 2.06.94-2.06 2.06-.94-2.06-.94-.94-2.06-.94 2.06-2.06.94zm-11 1L8.5 8.5l.94-2.06 2.06-.94-2.06-.94L8.5 2.5l-.94 2.06-2.06.94zm10 10l.94 2.06.94-2.06 2.06-.94-2.06-.94-.94-2.06-.94 2.06-2.06.94z\"/><path d=\"M17.41 7.96l-1.37-1.37c-.4-.4-.92-.59-1.43-.59-.52 0-1.04.2-1.43.59L10.3 9.45l-7.72 7.72c-.78.78-.78 2.05 0 2.83L4 21.41c.39.39.9.59 1.41.59.51 0 1.02-.2 1.41-.59l7.78-7.78 2.81-2.81c.8-.78.8-2.07 0-2.86zM5.41 20L4 18.59l7.72-7.72 1.47 1.35L5.41 20z\"/>\n",
              "  </svg>\n",
              "      </button>\n",
              "      \n",
              "  <style>\n",
              "    .colab-df-container {\n",
              "      display:flex;\n",
              "      flex-wrap:wrap;\n",
              "      gap: 12px;\n",
              "    }\n",
              "\n",
              "    .colab-df-convert {\n",
              "      background-color: #E8F0FE;\n",
              "      border: none;\n",
              "      border-radius: 50%;\n",
              "      cursor: pointer;\n",
              "      display: none;\n",
              "      fill: #1967D2;\n",
              "      height: 32px;\n",
              "      padding: 0 0 0 0;\n",
              "      width: 32px;\n",
              "    }\n",
              "\n",
              "    .colab-df-convert:hover {\n",
              "      background-color: #E2EBFA;\n",
              "      box-shadow: 0px 1px 2px rgba(60, 64, 67, 0.3), 0px 1px 3px 1px rgba(60, 64, 67, 0.15);\n",
              "      fill: #174EA6;\n",
              "    }\n",
              "\n",
              "    [theme=dark] .colab-df-convert {\n",
              "      background-color: #3B4455;\n",
              "      fill: #D2E3FC;\n",
              "    }\n",
              "\n",
              "    [theme=dark] .colab-df-convert:hover {\n",
              "      background-color: #434B5C;\n",
              "      box-shadow: 0px 1px 3px 1px rgba(0, 0, 0, 0.15);\n",
              "      filter: drop-shadow(0px 1px 2px rgba(0, 0, 0, 0.3));\n",
              "      fill: #FFFFFF;\n",
              "    }\n",
              "  </style>\n",
              "\n",
              "      <script>\n",
              "        const buttonEl =\n",
              "          document.querySelector('#df-17b2490e-7c06-4e77-9f86-e2aa5f89a867 button.colab-df-convert');\n",
              "        buttonEl.style.display =\n",
              "          google.colab.kernel.accessAllowed ? 'block' : 'none';\n",
              "\n",
              "        async function convertToInteractive(key) {\n",
              "          const element = document.querySelector('#df-17b2490e-7c06-4e77-9f86-e2aa5f89a867');\n",
              "          const dataTable =\n",
              "            await google.colab.kernel.invokeFunction('convertToInteractive',\n",
              "                                                     [key], {});\n",
              "          if (!dataTable) return;\n",
              "\n",
              "          const docLinkHtml = 'Like what you see? Visit the ' +\n",
              "            '<a target=\"_blank\" href=https://colab.research.google.com/notebooks/data_table.ipynb>data table notebook</a>'\n",
              "            + ' to learn more about interactive tables.';\n",
              "          element.innerHTML = '';\n",
              "          dataTable['output_type'] = 'display_data';\n",
              "          await google.colab.output.renderOutput(dataTable, element);\n",
              "          const docLink = document.createElement('div');\n",
              "          docLink.innerHTML = docLinkHtml;\n",
              "          element.appendChild(docLink);\n",
              "        }\n",
              "      </script>\n",
              "    </div>\n",
              "  </div>\n",
              "  "
            ]
          },
          "metadata": {},
          "execution_count": 3
        }
      ]
    },
    {
      "cell_type": "code",
      "source": [
        "df.describe() "
      ],
      "metadata": {
        "colab": {
          "base_uri": "https://localhost:8080/",
          "height": 300
        },
        "id": "hyMimdYTWxGL",
        "outputId": "349d5833-f718-4741-8f4f-b02cfc30020f"
      },
      "execution_count": 4,
      "outputs": [
        {
          "output_type": "execute_result",
          "data": {
            "text/plain": [
              "       Pregnancies     Glucose  BloodPressure  SkinThickness     Insulin  \\\n",
              "count   768.000000  768.000000     768.000000     768.000000  768.000000   \n",
              "mean      3.845052  120.894531      69.105469      20.536458   79.799479   \n",
              "std       3.369578   31.972618      19.355807      15.952218  115.244002   \n",
              "min       0.000000    0.000000       0.000000       0.000000    0.000000   \n",
              "25%       1.000000   99.000000      62.000000       0.000000    0.000000   \n",
              "50%       3.000000  117.000000      72.000000      23.000000   30.500000   \n",
              "75%       6.000000  140.250000      80.000000      32.000000  127.250000   \n",
              "max      17.000000  199.000000     122.000000      99.000000  846.000000   \n",
              "\n",
              "              BMI  DiabetesPedigreeFunction         Age     Outcome  \n",
              "count  768.000000                768.000000  768.000000  768.000000  \n",
              "mean    31.992578                  0.471876   33.240885    0.348958  \n",
              "std      7.884160                  0.331329   11.760232    0.476951  \n",
              "min      0.000000                  0.078000   21.000000    0.000000  \n",
              "25%     27.300000                  0.243750   24.000000    0.000000  \n",
              "50%     32.000000                  0.372500   29.000000    0.000000  \n",
              "75%     36.600000                  0.626250   41.000000    1.000000  \n",
              "max     67.100000                  2.420000   81.000000    1.000000  "
            ],
            "text/html": [
              "\n",
              "  <div id=\"df-50fd121a-510d-402d-b6a8-1fc26045855b\">\n",
              "    <div class=\"colab-df-container\">\n",
              "      <div>\n",
              "<style scoped>\n",
              "    .dataframe tbody tr th:only-of-type {\n",
              "        vertical-align: middle;\n",
              "    }\n",
              "\n",
              "    .dataframe tbody tr th {\n",
              "        vertical-align: top;\n",
              "    }\n",
              "\n",
              "    .dataframe thead th {\n",
              "        text-align: right;\n",
              "    }\n",
              "</style>\n",
              "<table border=\"1\" class=\"dataframe\">\n",
              "  <thead>\n",
              "    <tr style=\"text-align: right;\">\n",
              "      <th></th>\n",
              "      <th>Pregnancies</th>\n",
              "      <th>Glucose</th>\n",
              "      <th>BloodPressure</th>\n",
              "      <th>SkinThickness</th>\n",
              "      <th>Insulin</th>\n",
              "      <th>BMI</th>\n",
              "      <th>DiabetesPedigreeFunction</th>\n",
              "      <th>Age</th>\n",
              "      <th>Outcome</th>\n",
              "    </tr>\n",
              "  </thead>\n",
              "  <tbody>\n",
              "    <tr>\n",
              "      <th>count</th>\n",
              "      <td>768.000000</td>\n",
              "      <td>768.000000</td>\n",
              "      <td>768.000000</td>\n",
              "      <td>768.000000</td>\n",
              "      <td>768.000000</td>\n",
              "      <td>768.000000</td>\n",
              "      <td>768.000000</td>\n",
              "      <td>768.000000</td>\n",
              "      <td>768.000000</td>\n",
              "    </tr>\n",
              "    <tr>\n",
              "      <th>mean</th>\n",
              "      <td>3.845052</td>\n",
              "      <td>120.894531</td>\n",
              "      <td>69.105469</td>\n",
              "      <td>20.536458</td>\n",
              "      <td>79.799479</td>\n",
              "      <td>31.992578</td>\n",
              "      <td>0.471876</td>\n",
              "      <td>33.240885</td>\n",
              "      <td>0.348958</td>\n",
              "    </tr>\n",
              "    <tr>\n",
              "      <th>std</th>\n",
              "      <td>3.369578</td>\n",
              "      <td>31.972618</td>\n",
              "      <td>19.355807</td>\n",
              "      <td>15.952218</td>\n",
              "      <td>115.244002</td>\n",
              "      <td>7.884160</td>\n",
              "      <td>0.331329</td>\n",
              "      <td>11.760232</td>\n",
              "      <td>0.476951</td>\n",
              "    </tr>\n",
              "    <tr>\n",
              "      <th>min</th>\n",
              "      <td>0.000000</td>\n",
              "      <td>0.000000</td>\n",
              "      <td>0.000000</td>\n",
              "      <td>0.000000</td>\n",
              "      <td>0.000000</td>\n",
              "      <td>0.000000</td>\n",
              "      <td>0.078000</td>\n",
              "      <td>21.000000</td>\n",
              "      <td>0.000000</td>\n",
              "    </tr>\n",
              "    <tr>\n",
              "      <th>25%</th>\n",
              "      <td>1.000000</td>\n",
              "      <td>99.000000</td>\n",
              "      <td>62.000000</td>\n",
              "      <td>0.000000</td>\n",
              "      <td>0.000000</td>\n",
              "      <td>27.300000</td>\n",
              "      <td>0.243750</td>\n",
              "      <td>24.000000</td>\n",
              "      <td>0.000000</td>\n",
              "    </tr>\n",
              "    <tr>\n",
              "      <th>50%</th>\n",
              "      <td>3.000000</td>\n",
              "      <td>117.000000</td>\n",
              "      <td>72.000000</td>\n",
              "      <td>23.000000</td>\n",
              "      <td>30.500000</td>\n",
              "      <td>32.000000</td>\n",
              "      <td>0.372500</td>\n",
              "      <td>29.000000</td>\n",
              "      <td>0.000000</td>\n",
              "    </tr>\n",
              "    <tr>\n",
              "      <th>75%</th>\n",
              "      <td>6.000000</td>\n",
              "      <td>140.250000</td>\n",
              "      <td>80.000000</td>\n",
              "      <td>32.000000</td>\n",
              "      <td>127.250000</td>\n",
              "      <td>36.600000</td>\n",
              "      <td>0.626250</td>\n",
              "      <td>41.000000</td>\n",
              "      <td>1.000000</td>\n",
              "    </tr>\n",
              "    <tr>\n",
              "      <th>max</th>\n",
              "      <td>17.000000</td>\n",
              "      <td>199.000000</td>\n",
              "      <td>122.000000</td>\n",
              "      <td>99.000000</td>\n",
              "      <td>846.000000</td>\n",
              "      <td>67.100000</td>\n",
              "      <td>2.420000</td>\n",
              "      <td>81.000000</td>\n",
              "      <td>1.000000</td>\n",
              "    </tr>\n",
              "  </tbody>\n",
              "</table>\n",
              "</div>\n",
              "      <button class=\"colab-df-convert\" onclick=\"convertToInteractive('df-50fd121a-510d-402d-b6a8-1fc26045855b')\"\n",
              "              title=\"Convert this dataframe to an interactive table.\"\n",
              "              style=\"display:none;\">\n",
              "        \n",
              "  <svg xmlns=\"http://www.w3.org/2000/svg\" height=\"24px\"viewBox=\"0 0 24 24\"\n",
              "       width=\"24px\">\n",
              "    <path d=\"M0 0h24v24H0V0z\" fill=\"none\"/>\n",
              "    <path d=\"M18.56 5.44l.94 2.06.94-2.06 2.06-.94-2.06-.94-.94-2.06-.94 2.06-2.06.94zm-11 1L8.5 8.5l.94-2.06 2.06-.94-2.06-.94L8.5 2.5l-.94 2.06-2.06.94zm10 10l.94 2.06.94-2.06 2.06-.94-2.06-.94-.94-2.06-.94 2.06-2.06.94z\"/><path d=\"M17.41 7.96l-1.37-1.37c-.4-.4-.92-.59-1.43-.59-.52 0-1.04.2-1.43.59L10.3 9.45l-7.72 7.72c-.78.78-.78 2.05 0 2.83L4 21.41c.39.39.9.59 1.41.59.51 0 1.02-.2 1.41-.59l7.78-7.78 2.81-2.81c.8-.78.8-2.07 0-2.86zM5.41 20L4 18.59l7.72-7.72 1.47 1.35L5.41 20z\"/>\n",
              "  </svg>\n",
              "      </button>\n",
              "      \n",
              "  <style>\n",
              "    .colab-df-container {\n",
              "      display:flex;\n",
              "      flex-wrap:wrap;\n",
              "      gap: 12px;\n",
              "    }\n",
              "\n",
              "    .colab-df-convert {\n",
              "      background-color: #E8F0FE;\n",
              "      border: none;\n",
              "      border-radius: 50%;\n",
              "      cursor: pointer;\n",
              "      display: none;\n",
              "      fill: #1967D2;\n",
              "      height: 32px;\n",
              "      padding: 0 0 0 0;\n",
              "      width: 32px;\n",
              "    }\n",
              "\n",
              "    .colab-df-convert:hover {\n",
              "      background-color: #E2EBFA;\n",
              "      box-shadow: 0px 1px 2px rgba(60, 64, 67, 0.3), 0px 1px 3px 1px rgba(60, 64, 67, 0.15);\n",
              "      fill: #174EA6;\n",
              "    }\n",
              "\n",
              "    [theme=dark] .colab-df-convert {\n",
              "      background-color: #3B4455;\n",
              "      fill: #D2E3FC;\n",
              "    }\n",
              "\n",
              "    [theme=dark] .colab-df-convert:hover {\n",
              "      background-color: #434B5C;\n",
              "      box-shadow: 0px 1px 3px 1px rgba(0, 0, 0, 0.15);\n",
              "      filter: drop-shadow(0px 1px 2px rgba(0, 0, 0, 0.3));\n",
              "      fill: #FFFFFF;\n",
              "    }\n",
              "  </style>\n",
              "\n",
              "      <script>\n",
              "        const buttonEl =\n",
              "          document.querySelector('#df-50fd121a-510d-402d-b6a8-1fc26045855b button.colab-df-convert');\n",
              "        buttonEl.style.display =\n",
              "          google.colab.kernel.accessAllowed ? 'block' : 'none';\n",
              "\n",
              "        async function convertToInteractive(key) {\n",
              "          const element = document.querySelector('#df-50fd121a-510d-402d-b6a8-1fc26045855b');\n",
              "          const dataTable =\n",
              "            await google.colab.kernel.invokeFunction('convertToInteractive',\n",
              "                                                     [key], {});\n",
              "          if (!dataTable) return;\n",
              "\n",
              "          const docLinkHtml = 'Like what you see? Visit the ' +\n",
              "            '<a target=\"_blank\" href=https://colab.research.google.com/notebooks/data_table.ipynb>data table notebook</a>'\n",
              "            + ' to learn more about interactive tables.';\n",
              "          element.innerHTML = '';\n",
              "          dataTable['output_type'] = 'display_data';\n",
              "          await google.colab.output.renderOutput(dataTable, element);\n",
              "          const docLink = document.createElement('div');\n",
              "          docLink.innerHTML = docLinkHtml;\n",
              "          element.appendChild(docLink);\n",
              "        }\n",
              "      </script>\n",
              "    </div>\n",
              "  </div>\n",
              "  "
            ]
          },
          "metadata": {},
          "execution_count": 4
        }
      ]
    },
    {
      "cell_type": "code",
      "source": [
        "%matplotlib inline\n",
        "sns.pairplot(df[['Outcome', 'Glucose', 'BMI', \"Age\", \"Pregnancies\", \"DiabetesPedigreeFunction\", \"Insulin\"]]) #P.S. Non Linear Regression\n",
        "plt.show()"
      ],
      "metadata": {
        "id": "_lwmLWx0X1VZ"
      },
      "execution_count": null,
      "outputs": []
    },
    {
      "cell_type": "code",
      "source": [
        "df.corr().abs().style.background_gradient(cmap='Blues') #Corralation matrix chart"
      ],
      "metadata": {
        "colab": {
          "base_uri": "https://localhost:8080/",
          "height": 332
        },
        "id": "qD_FXxndm5Z2",
        "outputId": "c6efd746-6c03-415e-cc1b-78fda6d2c6a4"
      },
      "execution_count": 5,
      "outputs": [
        {
          "output_type": "execute_result",
          "data": {
            "text/plain": [
              "<pandas.io.formats.style.Styler at 0x7f1d52273f70>"
            ],
            "text/html": [
              "<style type=\"text/css\">\n",
              "#T_935f2_row0_col0, #T_935f2_row1_col1, #T_935f2_row2_col2, #T_935f2_row3_col3, #T_935f2_row4_col4, #T_935f2_row5_col5, #T_935f2_row6_col6, #T_935f2_row7_col7, #T_935f2_row8_col8 {\n",
              "  background-color: #08306b;\n",
              "  color: #f1f1f1;\n",
              "}\n",
              "#T_935f2_row0_col1 {\n",
              "  background-color: #e8f1fa;\n",
              "  color: #000000;\n",
              "}\n",
              "#T_935f2_row0_col2 {\n",
              "  background-color: #e3eef8;\n",
              "  color: #000000;\n",
              "}\n",
              "#T_935f2_row0_col3, #T_935f2_row8_col2 {\n",
              "  background-color: #f2f8fd;\n",
              "  color: #000000;\n",
              "}\n",
              "#T_935f2_row0_col4 {\n",
              "  background-color: #f1f7fd;\n",
              "  color: #000000;\n",
              "}\n",
              "#T_935f2_row0_col5, #T_935f2_row0_col6, #T_935f2_row1_col3, #T_935f2_row2_col8, #T_935f2_row3_col1, #T_935f2_row5_col0, #T_935f2_row5_col7, #T_935f2_row6_col2, #T_935f2_row6_col7, #T_935f2_row7_col4, #T_935f2_row7_col6 {\n",
              "  background-color: #f7fbff;\n",
              "  color: #000000;\n",
              "}\n",
              "#T_935f2_row0_col7 {\n",
              "  background-color: #61a7d2;\n",
              "  color: #f1f1f1;\n",
              "}\n",
              "#T_935f2_row0_col8 {\n",
              "  background-color: #d6e6f4;\n",
              "  color: #000000;\n",
              "}\n",
              "#T_935f2_row1_col0, #T_935f2_row1_col2, #T_935f2_row6_col8 {\n",
              "  background-color: #e0ecf8;\n",
              "  color: #000000;\n",
              "}\n",
              "#T_935f2_row1_col4 {\n",
              "  background-color: #b5d4e9;\n",
              "  color: #000000;\n",
              "}\n",
              "#T_935f2_row1_col5, #T_935f2_row8_col0 {\n",
              "  background-color: #cee0f2;\n",
              "  color: #000000;\n",
              "}\n",
              "#T_935f2_row1_col6 {\n",
              "  background-color: #e2edf8;\n",
              "  color: #000000;\n",
              "}\n",
              "#T_935f2_row1_col7 {\n",
              "  background-color: #c9ddf0;\n",
              "  color: #000000;\n",
              "}\n",
              "#T_935f2_row1_col8 {\n",
              "  background-color: #89bedc;\n",
              "  color: #000000;\n",
              "}\n",
              "#T_935f2_row2_col0, #T_935f2_row6_col5 {\n",
              "  background-color: #deebf7;\n",
              "  color: #000000;\n",
              "}\n",
              "#T_935f2_row2_col1 {\n",
              "  background-color: #e3eef9;\n",
              "  color: #000000;\n",
              "}\n",
              "#T_935f2_row2_col3, #T_935f2_row4_col6 {\n",
              "  background-color: #d8e7f5;\n",
              "  color: #000000;\n",
              "}\n",
              "#T_935f2_row2_col4, #T_935f2_row4_col2 {\n",
              "  background-color: #eef5fc;\n",
              "  color: #000000;\n",
              "}\n",
              "#T_935f2_row2_col5 {\n",
              "  background-color: #c1d9ed;\n",
              "  color: #000000;\n",
              "}\n",
              "#T_935f2_row2_col6, #T_935f2_row3_col8, #T_935f2_row4_col7 {\n",
              "  background-color: #f5fafe;\n",
              "  color: #000000;\n",
              "}\n",
              "#T_935f2_row2_col7, #T_935f2_row8_col7 {\n",
              "  background-color: #cde0f1;\n",
              "  color: #000000;\n",
              "}\n",
              "#T_935f2_row3_col0 {\n",
              "  background-color: #eaf3fb;\n",
              "  color: #000000;\n",
              "}\n",
              "#T_935f2_row3_col2, #T_935f2_row5_col1 {\n",
              "  background-color: #d5e5f4;\n",
              "  color: #000000;\n",
              "}\n",
              "#T_935f2_row3_col4 {\n",
              "  background-color: #8fc2de;\n",
              "  color: #000000;\n",
              "}\n",
              "#T_935f2_row3_col5 {\n",
              "  background-color: #9cc9e1;\n",
              "  color: #000000;\n",
              "}\n",
              "#T_935f2_row3_col6 {\n",
              "  background-color: #d9e7f5;\n",
              "  color: #000000;\n",
              "}\n",
              "#T_935f2_row3_col7, #T_935f2_row6_col1 {\n",
              "  background-color: #e7f0fa;\n",
              "  color: #000000;\n",
              "}\n",
              "#T_935f2_row4_col0 {\n",
              "  background-color: #ecf4fb;\n",
              "  color: #000000;\n",
              "}\n",
              "#T_935f2_row4_col1 {\n",
              "  background-color: #b9d6ea;\n",
              "  color: #000000;\n",
              "}\n",
              "#T_935f2_row4_col3 {\n",
              "  background-color: #92c4de;\n",
              "  color: #000000;\n",
              "}\n",
              "#T_935f2_row4_col5 {\n",
              "  background-color: #d3e4f3;\n",
              "  color: #000000;\n",
              "}\n",
              "#T_935f2_row4_col8 {\n",
              "  background-color: #eaf2fb;\n",
              "  color: #000000;\n",
              "}\n",
              "#T_935f2_row5_col2 {\n",
              "  background-color: #c6dbef;\n",
              "  color: #000000;\n",
              "}\n",
              "#T_935f2_row5_col3 {\n",
              "  background-color: #a4cce3;\n",
              "  color: #000000;\n",
              "}\n",
              "#T_935f2_row5_col4 {\n",
              "  background-color: #d7e6f5;\n",
              "  color: #000000;\n",
              "}\n",
              "#T_935f2_row5_col6 {\n",
              "  background-color: #e1edf8;\n",
              "  color: #000000;\n",
              "}\n",
              "#T_935f2_row5_col8 {\n",
              "  background-color: #c7dcef;\n",
              "  color: #000000;\n",
              "}\n",
              "#T_935f2_row6_col0, #T_935f2_row7_col5, #T_935f2_row8_col3 {\n",
              "  background-color: #f4f9fe;\n",
              "  color: #000000;\n",
              "}\n",
              "#T_935f2_row6_col3 {\n",
              "  background-color: #dceaf6;\n",
              "  color: #000000;\n",
              "}\n",
              "#T_935f2_row6_col4 {\n",
              "  background-color: #d9e8f5;\n",
              "  color: #000000;\n",
              "}\n",
              "#T_935f2_row7_col0 {\n",
              "  background-color: #5fa6d1;\n",
              "  color: #f1f1f1;\n",
              "}\n",
              "#T_935f2_row7_col1 {\n",
              "  background-color: #cddff1;\n",
              "  color: #000000;\n",
              "}\n",
              "#T_935f2_row7_col2 {\n",
              "  background-color: #cfe1f2;\n",
              "  color: #000000;\n",
              "}\n",
              "#T_935f2_row7_col3 {\n",
              "  background-color: #ebf3fb;\n",
              "  color: #000000;\n",
              "}\n",
              "#T_935f2_row7_col8 {\n",
              "  background-color: #d3e3f3;\n",
              "  color: #000000;\n",
              "}\n",
              "#T_935f2_row8_col1 {\n",
              "  background-color: #85bcdc;\n",
              "  color: #000000;\n",
              "}\n",
              "#T_935f2_row8_col4 {\n",
              "  background-color: #e5eff9;\n",
              "  color: #000000;\n",
              "}\n",
              "#T_935f2_row8_col5 {\n",
              "  background-color: #bdd7ec;\n",
              "  color: #000000;\n",
              "}\n",
              "#T_935f2_row8_col6 {\n",
              "  background-color: #dae8f6;\n",
              "  color: #000000;\n",
              "}\n",
              "</style>\n",
              "<table id=\"T_935f2_\" class=\"dataframe\">\n",
              "  <thead>\n",
              "    <tr>\n",
              "      <th class=\"blank level0\" >&nbsp;</th>\n",
              "      <th class=\"col_heading level0 col0\" >Pregnancies</th>\n",
              "      <th class=\"col_heading level0 col1\" >Glucose</th>\n",
              "      <th class=\"col_heading level0 col2\" >BloodPressure</th>\n",
              "      <th class=\"col_heading level0 col3\" >SkinThickness</th>\n",
              "      <th class=\"col_heading level0 col4\" >Insulin</th>\n",
              "      <th class=\"col_heading level0 col5\" >BMI</th>\n",
              "      <th class=\"col_heading level0 col6\" >DiabetesPedigreeFunction</th>\n",
              "      <th class=\"col_heading level0 col7\" >Age</th>\n",
              "      <th class=\"col_heading level0 col8\" >Outcome</th>\n",
              "    </tr>\n",
              "  </thead>\n",
              "  <tbody>\n",
              "    <tr>\n",
              "      <th id=\"T_935f2_level0_row0\" class=\"row_heading level0 row0\" >Pregnancies</th>\n",
              "      <td id=\"T_935f2_row0_col0\" class=\"data row0 col0\" >1.000000</td>\n",
              "      <td id=\"T_935f2_row0_col1\" class=\"data row0 col1\" >0.129459</td>\n",
              "      <td id=\"T_935f2_row0_col2\" class=\"data row0 col2\" >0.141282</td>\n",
              "      <td id=\"T_935f2_row0_col3\" class=\"data row0 col3\" >0.081672</td>\n",
              "      <td id=\"T_935f2_row0_col4\" class=\"data row0 col4\" >0.073535</td>\n",
              "      <td id=\"T_935f2_row0_col5\" class=\"data row0 col5\" >0.017683</td>\n",
              "      <td id=\"T_935f2_row0_col6\" class=\"data row0 col6\" >0.033523</td>\n",
              "      <td id=\"T_935f2_row0_col7\" class=\"data row0 col7\" >0.544341</td>\n",
              "      <td id=\"T_935f2_row0_col8\" class=\"data row0 col8\" >0.221898</td>\n",
              "    </tr>\n",
              "    <tr>\n",
              "      <th id=\"T_935f2_level0_row1\" class=\"row_heading level0 row1\" >Glucose</th>\n",
              "      <td id=\"T_935f2_row1_col0\" class=\"data row1 col0\" >0.129459</td>\n",
              "      <td id=\"T_935f2_row1_col1\" class=\"data row1 col1\" >1.000000</td>\n",
              "      <td id=\"T_935f2_row1_col2\" class=\"data row1 col2\" >0.152590</td>\n",
              "      <td id=\"T_935f2_row1_col3\" class=\"data row1 col3\" >0.057328</td>\n",
              "      <td id=\"T_935f2_row1_col4\" class=\"data row1 col4\" >0.331357</td>\n",
              "      <td id=\"T_935f2_row1_col5\" class=\"data row1 col5\" >0.221071</td>\n",
              "      <td id=\"T_935f2_row1_col6\" class=\"data row1 col6\" >0.137337</td>\n",
              "      <td id=\"T_935f2_row1_col7\" class=\"data row1 col7\" >0.263514</td>\n",
              "      <td id=\"T_935f2_row1_col8\" class=\"data row1 col8\" >0.466581</td>\n",
              "    </tr>\n",
              "    <tr>\n",
              "      <th id=\"T_935f2_level0_row2\" class=\"row_heading level0 row2\" >BloodPressure</th>\n",
              "      <td id=\"T_935f2_row2_col0\" class=\"data row2 col0\" >0.141282</td>\n",
              "      <td id=\"T_935f2_row2_col1\" class=\"data row2 col1\" >0.152590</td>\n",
              "      <td id=\"T_935f2_row2_col2\" class=\"data row2 col2\" >1.000000</td>\n",
              "      <td id=\"T_935f2_row2_col3\" class=\"data row2 col3\" >0.207371</td>\n",
              "      <td id=\"T_935f2_row2_col4\" class=\"data row2 col4\" >0.088933</td>\n",
              "      <td id=\"T_935f2_row2_col5\" class=\"data row2 col5\" >0.281805</td>\n",
              "      <td id=\"T_935f2_row2_col6\" class=\"data row2 col6\" >0.041265</td>\n",
              "      <td id=\"T_935f2_row2_col7\" class=\"data row2 col7\" >0.239528</td>\n",
              "      <td id=\"T_935f2_row2_col8\" class=\"data row2 col8\" >0.065068</td>\n",
              "    </tr>\n",
              "    <tr>\n",
              "      <th id=\"T_935f2_level0_row3\" class=\"row_heading level0 row3\" >SkinThickness</th>\n",
              "      <td id=\"T_935f2_row3_col0\" class=\"data row3 col0\" >0.081672</td>\n",
              "      <td id=\"T_935f2_row3_col1\" class=\"data row3 col1\" >0.057328</td>\n",
              "      <td id=\"T_935f2_row3_col2\" class=\"data row3 col2\" >0.207371</td>\n",
              "      <td id=\"T_935f2_row3_col3\" class=\"data row3 col3\" >1.000000</td>\n",
              "      <td id=\"T_935f2_row3_col4\" class=\"data row3 col4\" >0.436783</td>\n",
              "      <td id=\"T_935f2_row3_col5\" class=\"data row3 col5\" >0.392573</td>\n",
              "      <td id=\"T_935f2_row3_col6\" class=\"data row3 col6\" >0.183928</td>\n",
              "      <td id=\"T_935f2_row3_col7\" class=\"data row3 col7\" >0.113970</td>\n",
              "      <td id=\"T_935f2_row3_col8\" class=\"data row3 col8\" >0.074752</td>\n",
              "    </tr>\n",
              "    <tr>\n",
              "      <th id=\"T_935f2_level0_row4\" class=\"row_heading level0 row4\" >Insulin</th>\n",
              "      <td id=\"T_935f2_row4_col0\" class=\"data row4 col0\" >0.073535</td>\n",
              "      <td id=\"T_935f2_row4_col1\" class=\"data row4 col1\" >0.331357</td>\n",
              "      <td id=\"T_935f2_row4_col2\" class=\"data row4 col2\" >0.088933</td>\n",
              "      <td id=\"T_935f2_row4_col3\" class=\"data row4 col3\" >0.436783</td>\n",
              "      <td id=\"T_935f2_row4_col4\" class=\"data row4 col4\" >1.000000</td>\n",
              "      <td id=\"T_935f2_row4_col5\" class=\"data row4 col5\" >0.197859</td>\n",
              "      <td id=\"T_935f2_row4_col6\" class=\"data row4 col6\" >0.185071</td>\n",
              "      <td id=\"T_935f2_row4_col7\" class=\"data row4 col7\" >0.042163</td>\n",
              "      <td id=\"T_935f2_row4_col8\" class=\"data row4 col8\" >0.130548</td>\n",
              "    </tr>\n",
              "    <tr>\n",
              "      <th id=\"T_935f2_level0_row5\" class=\"row_heading level0 row5\" >BMI</th>\n",
              "      <td id=\"T_935f2_row5_col0\" class=\"data row5 col0\" >0.017683</td>\n",
              "      <td id=\"T_935f2_row5_col1\" class=\"data row5 col1\" >0.221071</td>\n",
              "      <td id=\"T_935f2_row5_col2\" class=\"data row5 col2\" >0.281805</td>\n",
              "      <td id=\"T_935f2_row5_col3\" class=\"data row5 col3\" >0.392573</td>\n",
              "      <td id=\"T_935f2_row5_col4\" class=\"data row5 col4\" >0.197859</td>\n",
              "      <td id=\"T_935f2_row5_col5\" class=\"data row5 col5\" >1.000000</td>\n",
              "      <td id=\"T_935f2_row5_col6\" class=\"data row5 col6\" >0.140647</td>\n",
              "      <td id=\"T_935f2_row5_col7\" class=\"data row5 col7\" >0.036242</td>\n",
              "      <td id=\"T_935f2_row5_col8\" class=\"data row5 col8\" >0.292695</td>\n",
              "    </tr>\n",
              "    <tr>\n",
              "      <th id=\"T_935f2_level0_row6\" class=\"row_heading level0 row6\" >DiabetesPedigreeFunction</th>\n",
              "      <td id=\"T_935f2_row6_col0\" class=\"data row6 col0\" >0.033523</td>\n",
              "      <td id=\"T_935f2_row6_col1\" class=\"data row6 col1\" >0.137337</td>\n",
              "      <td id=\"T_935f2_row6_col2\" class=\"data row6 col2\" >0.041265</td>\n",
              "      <td id=\"T_935f2_row6_col3\" class=\"data row6 col3\" >0.183928</td>\n",
              "      <td id=\"T_935f2_row6_col4\" class=\"data row6 col4\" >0.185071</td>\n",
              "      <td id=\"T_935f2_row6_col5\" class=\"data row6 col5\" >0.140647</td>\n",
              "      <td id=\"T_935f2_row6_col6\" class=\"data row6 col6\" >1.000000</td>\n",
              "      <td id=\"T_935f2_row6_col7\" class=\"data row6 col7\" >0.033561</td>\n",
              "      <td id=\"T_935f2_row6_col8\" class=\"data row6 col8\" >0.173844</td>\n",
              "    </tr>\n",
              "    <tr>\n",
              "      <th id=\"T_935f2_level0_row7\" class=\"row_heading level0 row7\" >Age</th>\n",
              "      <td id=\"T_935f2_row7_col0\" class=\"data row7 col0\" >0.544341</td>\n",
              "      <td id=\"T_935f2_row7_col1\" class=\"data row7 col1\" >0.263514</td>\n",
              "      <td id=\"T_935f2_row7_col2\" class=\"data row7 col2\" >0.239528</td>\n",
              "      <td id=\"T_935f2_row7_col3\" class=\"data row7 col3\" >0.113970</td>\n",
              "      <td id=\"T_935f2_row7_col4\" class=\"data row7 col4\" >0.042163</td>\n",
              "      <td id=\"T_935f2_row7_col5\" class=\"data row7 col5\" >0.036242</td>\n",
              "      <td id=\"T_935f2_row7_col6\" class=\"data row7 col6\" >0.033561</td>\n",
              "      <td id=\"T_935f2_row7_col7\" class=\"data row7 col7\" >1.000000</td>\n",
              "      <td id=\"T_935f2_row7_col8\" class=\"data row7 col8\" >0.238356</td>\n",
              "    </tr>\n",
              "    <tr>\n",
              "      <th id=\"T_935f2_level0_row8\" class=\"row_heading level0 row8\" >Outcome</th>\n",
              "      <td id=\"T_935f2_row8_col0\" class=\"data row8 col0\" >0.221898</td>\n",
              "      <td id=\"T_935f2_row8_col1\" class=\"data row8 col1\" >0.466581</td>\n",
              "      <td id=\"T_935f2_row8_col2\" class=\"data row8 col2\" >0.065068</td>\n",
              "      <td id=\"T_935f2_row8_col3\" class=\"data row8 col3\" >0.074752</td>\n",
              "      <td id=\"T_935f2_row8_col4\" class=\"data row8 col4\" >0.130548</td>\n",
              "      <td id=\"T_935f2_row8_col5\" class=\"data row8 col5\" >0.292695</td>\n",
              "      <td id=\"T_935f2_row8_col6\" class=\"data row8 col6\" >0.173844</td>\n",
              "      <td id=\"T_935f2_row8_col7\" class=\"data row8 col7\" >0.238356</td>\n",
              "      <td id=\"T_935f2_row8_col8\" class=\"data row8 col8\" >1.000000</td>\n",
              "    </tr>\n",
              "  </tbody>\n",
              "</table>\n"
            ]
          },
          "metadata": {},
          "execution_count": 5
        }
      ]
    },
    {
      "cell_type": "code",
      "source": [
        "df.corrwith(df['Outcome']).abs().sort_values(ascending=False) #Corralation simple form"
      ],
      "metadata": {
        "colab": {
          "base_uri": "https://localhost:8080/"
        },
        "id": "k6s8wFQdXWmo",
        "outputId": "84fc23f5-fb51-4c02-a9d0-6f7dffde50f1"
      },
      "execution_count": 6,
      "outputs": [
        {
          "output_type": "execute_result",
          "data": {
            "text/plain": [
              "Outcome                     1.000000\n",
              "Glucose                     0.466581\n",
              "BMI                         0.292695\n",
              "Age                         0.238356\n",
              "Pregnancies                 0.221898\n",
              "DiabetesPedigreeFunction    0.173844\n",
              "Insulin                     0.130548\n",
              "SkinThickness               0.074752\n",
              "BloodPressure               0.065068\n",
              "dtype: float64"
            ]
          },
          "metadata": {},
          "execution_count": 6
        }
      ]
    },
    {
      "cell_type": "code",
      "source": [
        "df.Outcome.value_counts() #almost double times difference between positive and negative outcomes from diabetes "
      ],
      "metadata": {
        "colab": {
          "base_uri": "https://localhost:8080/"
        },
        "id": "GhQ10NnRiIgn",
        "outputId": "5deddc78-4946-4c1c-f83c-4f137795d9a4"
      },
      "execution_count": 7,
      "outputs": [
        {
          "output_type": "execute_result",
          "data": {
            "text/plain": [
              "0    500\n",
              "1    268\n",
              "Name: Outcome, dtype: int64"
            ]
          },
          "metadata": {},
          "execution_count": 7
        }
      ]
    },
    {
      "cell_type": "code",
      "source": [
        "x = df.drop('Outcome', axis=1).values\n",
        "y = df['Outcome']"
      ],
      "metadata": {
        "id": "g65NFpmPjTHP"
      },
      "execution_count": 8,
      "outputs": []
    },
    {
      "cell_type": "code",
      "source": [
        "#Standardizing the data values into a standard format\n",
        "from sklearn.preprocessing import StandardScaler\n",
        "scaler = StandardScaler()\n",
        "x = scaler.fit_transform(x)   "
      ],
      "metadata": {
        "id": "4TGYY8nFeoA1"
      },
      "execution_count": 29,
      "outputs": []
    },
    {
      "cell_type": "code",
      "source": [
        "#Splitting dataset into train and test sets\n",
        "\n",
        "from sklearn.model_selection import train_test_split \n",
        "x_train, x_test, y_train, y_test = train_test_split(x,y, test_size=0.2, random_state=21)\n",
        "\n",
        "# k-NN\n",
        "from sklearn.neighbors import KNeighborsClassifier\n",
        "knn = KNeighborsClassifier(n_neighbors=17) # k-ni qiymati\n",
        "\n",
        "knn.fit(x_train, y_train) #training the test sets"
      ],
      "metadata": {
        "id": "3_0opICnfVvz",
        "colab": {
          "base_uri": "https://localhost:8080/"
        },
        "outputId": "1a67bdbb-08de-4f85-a1da-e5e6db2d857e"
      },
      "execution_count": 30,
      "outputs": [
        {
          "output_type": "execute_result",
          "data": {
            "text/plain": [
              "KNeighborsClassifier(n_neighbors=17)"
            ]
          },
          "metadata": {},
          "execution_count": 30
        }
      ]
    },
    {
      "cell_type": "markdown",
      "source": [
        "**Find best \"k\" value**"
      ],
      "metadata": {
        "id": "GVAlQTd_o-hA"
      }
    },
    {
      "cell_type": "code",
      "source": [
        "#Find the best \"k\" value via sklearn (GridSearchCV)\n",
        "from sklearn.model_selection import GridSearchCV \n",
        "\n",
        "param_grid = {'n_neighbors' : np.arange(1,25)}\n",
        "knn_gscv = GridSearchCV(knn, param_grid, cv=5)\n",
        "knn_gscv.fit(x,y)"
      ],
      "metadata": {
        "id": "Z7qEKOBUpH0Y",
        "colab": {
          "base_uri": "https://localhost:8080/"
        },
        "outputId": "b6f31d08-6757-4a21-e5b5-72b0c2e0eb28"
      },
      "execution_count": 32,
      "outputs": [
        {
          "output_type": "execute_result",
          "data": {
            "text/plain": [
              "GridSearchCV(cv=5, estimator=KNeighborsClassifier(n_neighbors=19),\n",
              "             param_grid={'n_neighbors': array([ 1,  2,  3,  4,  5,  6,  7,  8,  9, 10, 11, 12, 13, 14, 15, 16, 17,\n",
              "       18, 19, 20, 21, 22, 23, 24])})"
            ]
          },
          "metadata": {},
          "execution_count": 32
        }
      ]
    },
    {
      "cell_type": "code",
      "source": [
        "knn_gscv.cv_results_['rank_test_score']"
      ],
      "metadata": {
        "colab": {
          "base_uri": "https://localhost:8080/"
        },
        "id": "RK7Ggpe7FWAA",
        "outputId": "676eff3a-48d4-45f8-9dda-3b7d878eca2c"
      },
      "execution_count": 33,
      "outputs": [
        {
          "output_type": "execute_result",
          "data": {
            "text/plain": [
              "array([24, 23, 15, 18, 22, 21, 17, 16, 20, 19, 14,  9,  4, 11,  3, 12,  1,\n",
              "        6,  2,  8,  5, 10,  7, 13], dtype=int32)"
            ]
          },
          "metadata": {},
          "execution_count": 33
        }
      ]
    },
    {
      "cell_type": "code",
      "source": [
        "knn_gscv.best_params_"
      ],
      "metadata": {
        "colab": {
          "base_uri": "https://localhost:8080/"
        },
        "id": "MSn9V3HmGCe2",
        "outputId": "0c0bb4e7-4223-4434-bd4f-4d345457918a"
      },
      "execution_count": 34,
      "outputs": [
        {
          "output_type": "execute_result",
          "data": {
            "text/plain": [
              "{'n_neighbors': 17}"
            ]
          },
          "metadata": {},
          "execution_count": 34
        }
      ]
    },
    {
      "cell_type": "code",
      "source": [
        "#nn_gscv.best_estimator_"
      ],
      "metadata": {
        "id": "6qUlHfutGDQU"
      },
      "execution_count": null,
      "outputs": []
    },
    {
      "cell_type": "code",
      "source": [
        "plt.figure(figsize=(10,6))\n",
        "plt.plot(param_grid['n_neighbors'], knn_gscv.cv_results_['rank_test_score'])\n",
        "plt.xticks(param_grid['n_neighbors'])\n",
        "plt.xlabel(\"k\")\n",
        "plt.ylabel(\"Xatolik reytingi\")\n",
        "plt.grid()\n",
        "plt.show()"
      ],
      "metadata": {
        "colab": {
          "base_uri": "https://localhost:8080/",
          "height": 390
        },
        "id": "joRZZ-ljGlaV",
        "outputId": "a4a1bdc3-32fb-432b-940a-15e2a31ace9c"
      },
      "execution_count": 37,
      "outputs": [
        {
          "output_type": "display_data",
          "data": {
            "text/plain": [
              "<Figure size 720x432 with 1 Axes>"
            ],
            "image/png": "[encoded data removed]"
          },
          "metadata": {
            "needs_background": "light"
          }
        }
      ]
    },
    {
      "cell_type": "markdown",
      "source": [
        "**Prediction**"
      ],
      "metadata": {
        "id": "5fkZKsUQL7PR"
      }
    },
    {
      "cell_type": "code",
      "source": [
        "y_predict = knn.predict(x_test) #predicting y values"
      ],
      "metadata": {
        "id": "L4le0lpkLLkT"
      },
      "execution_count": 42,
      "outputs": []
    },
    {
      "cell_type": "markdown",
      "source": [
        "**Evaluation of the Model**"
      ],
      "metadata": {
        "id": "tzSvE9EsRa8_"
      }
    },
    {
      "cell_type": "code",
      "source": [
        "#Jaccard index\n",
        "from sklearn.metrics import jaccard_score\n",
        "jaccard_score(y_test, y_predict)"
      ],
      "metadata": {
        "colab": {
          "base_uri": "https://localhost:8080/"
        },
        "id": "2nnL67bIMTwC",
        "outputId": "eac13116-bbb3-497a-e73e-07e128d0d856"
      },
      "execution_count": 43,
      "outputs": [
        {
          "output_type": "execute_result",
          "data": {
            "text/plain": [
              "0.34782608695652173"
            ]
          },
          "metadata": {},
          "execution_count": 43
        }
      ]
    },
    {
      "cell_type": "code",
      "source": [
        "#Confusion Martix\n",
        "from sklearn.metrics import confusion_matrix\n",
        "sns.heatmap(confusion_matrix(y_test, y_predict), cmap=\"Blues\", annot=True)\n",
        "plt.show()"
      ],
      "metadata": {
        "colab": {
          "base_uri": "https://localhost:8080/",
          "height": 265
        },
        "id": "RlqP_icXRJCT",
        "outputId": "22494585-14b1-4dbe-a7ae-b89fec4b1bd9"
      },
      "execution_count": 63,
      "outputs": [
        {
          "output_type": "display_data",
          "data": {
            "text/plain": [
              "<Figure size 432x288 with 2 Axes>"
            ],
            "image/png": "[encoded data removed]"
          },
          "metadata": {
            "needs_background": "light"
          }
        }
      ]
    },
    {
      "cell_type": "code",
      "source": [
        "confusion_matrix(y_test, y_predict)"
      ],
      "metadata": {
        "colab": {
          "base_uri": "https://localhost:8080/"
        },
        "id": "0gSKIbqmUXnw",
        "outputId": "d053ed9f-6a10-4d91-9437-73b23c7b8a79"
      },
      "execution_count": 64,
      "outputs": [
        {
          "output_type": "execute_result",
          "data": {
            "text/plain": [
              "array([[85,  9],\n",
              "       [36, 24]])"
            ]
          },
          "metadata": {},
          "execution_count": 64
        }
      ]
    },
    {
      "cell_type": "code",
      "source": [
        "#manual precision, f1, recall, accuracy reports\n",
        "from sklearn.metrics import precision_score, f1_score, recall_score, accuracy_score \n",
        "precision = precision_score(y_test, y_predict)\n",
        "f1 = f1_score(y_test, y_predict)\n",
        "recall = recall_score(y_test, y_predict)\n",
        "accuracy = accuracy_score(y_test, y_predict)\n",
        "\n",
        "print(f\"{precision=} \\n{f1=} \\n{recall=}, \\n{accuracy=}\")"
      ],
      "metadata": {
        "colab": {
          "base_uri": "https://localhost:8080/"
        },
        "id": "vcqUl4GrRJLu",
        "outputId": "af23598a-dbea-42b3-ec6c-2a6e7c2e5e8c"
      },
      "execution_count": 83,
      "outputs": [
        {
          "output_type": "stream",
          "name": "stdout",
          "text": [
            "precision=0.7272727272727273 \n",
            "f1=0.5161290322580645 \n",
            "recall=0.4, \n",
            "accuracy=0.7077922077922078\n"
          ]
        }
      ]
    },
    {
      "cell_type": "code",
      "source": [
        "#Classification report by using sklearn\n",
        "from sklearn.metrics import classification_report\n",
        "print(classification_report(y_test, y_predict))"
      ],
      "metadata": {
        "colab": {
          "base_uri": "https://localhost:8080/"
        },
        "id": "Q4Vb1VYCZn9N",
        "outputId": "af971c6a-0b17-458f-d28f-bbd4496183ed"
      },
      "execution_count": 84,
      "outputs": [
        {
          "output_type": "stream",
          "name": "stdout",
          "text": [
            "              precision    recall  f1-score   support\n",
            "\n",
            "           0       0.70      0.90      0.79        94\n",
            "           1       0.73      0.40      0.52        60\n",
            "\n",
            "    accuracy                           0.71       154\n",
            "   macro avg       0.71      0.65      0.65       154\n",
            "weighted avg       0.71      0.71      0.68       154\n",
            "\n"
          ]
        }
      ]
    },
    {
      "cell_type": "markdown",
      "source": [
        "**Cross Validation**"
      ],
      "metadata": {
        "id": "S7m_Wj5Oal1b"
      }
    },
    {
      "cell_type": "code",
      "source": [
        "#Cross Validation\n",
        "from sklearn.model_selection import cross_val_predict\n",
        "predict = cross_val_predict(estimator = knn, X=x, y=y, cv=5)\n",
        "\n",
        "#Cross Validation Evaluation\n",
        "print(classification_report(y, predict))\n",
        "\n"
      ],
      "metadata": {
        "colab": {
          "base_uri": "https://localhost:8080/"
        },
        "id": "u9PWYffMaiX5",
        "outputId": "73cc41ff-33ae-45c4-eaab-2cecebe5c299"
      },
      "execution_count": 89,
      "outputs": [
        {
          "output_type": "stream",
          "name": "stdout",
          "text": [
            "              precision    recall  f1-score   support\n",
            "\n",
            "           0       0.78      0.89      0.83       500\n",
            "           1       0.72      0.53      0.61       268\n",
            "\n",
            "    accuracy                           0.77       768\n",
            "   macro avg       0.75      0.71      0.72       768\n",
            "weighted avg       0.76      0.77      0.76       768\n",
            "\n"
          ]
        }
      ]
    },
    {
      "cell_type": "code",
      "source": [],
      "metadata": {
        "id": "vlA0m30-aA2g"
      },
      "execution_count": null,
      "outputs": []
    }
  ]
}